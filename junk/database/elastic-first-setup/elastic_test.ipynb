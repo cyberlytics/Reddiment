{
 "cells": [
  {
   "cell_type": "code",
   "execution_count": 1,
   "metadata": {},
   "outputs": [],
   "source": [
    "from datetime import datetime\n",
    "from elasticsearch import Elasticsearch\n",
    "import requests\n",
    "import json\n",
    "\n",
    "ELASTIC_PASSWORD = \"test\""
   ]
  },
  {
   "cell_type": "code",
   "execution_count": 2,
   "metadata": {},
   "outputs": [
    {
     "data": {
      "text/plain": [
       "ObjectApiResponse({'name': '81339b555537', 'cluster_name': 'docker-cluster', 'cluster_uuid': 'cI1bQg3dRTCxGm4eRRSl5Q', 'version': {'number': '8.2.0', 'build_flavor': 'default', 'build_type': 'docker', 'build_hash': 'b174af62e8dd9f4ac4d25875e9381ffe2b9282c5', 'build_date': '2022-04-20T10:35:10.180408517Z', 'build_snapshot': False, 'lucene_version': '9.1.0', 'minimum_wire_compatibility_version': '7.17.0', 'minimum_index_compatibility_version': '7.0.0'}, 'tagline': 'You Know, for Search'})"
      ]
     },
     "execution_count": 2,
     "metadata": {},
     "output_type": "execute_result"
    }
   ],
   "source": [
    "client = Elasticsearch(\"http://localhost:9200\", basic_auth=(\"elastic\", 'test'))\n",
    "client.info()"
   ]
  },
  {
   "cell_type": "code",
   "execution_count": 3,
   "metadata": {},
   "outputs": [
    {
     "data": {
      "text/plain": [
       "<Response [401]>"
      ]
     },
     "execution_count": 3,
     "metadata": {},
     "output_type": "execute_result"
    }
   ],
   "source": [
    "r = requests.get('http://localhost:9200')\n",
    "r"
   ]
  },
  {
   "cell_type": "code",
   "execution_count": 4,
   "metadata": {},
   "outputs": [
    {
     "data": {
      "text/plain": [
       "b'{\"name\":\"Luke Skywalker\",\"height\":\"172\",\"mass\":\"77\",\"hair_color\":\"blond\",\"skin_color\":\"fair\",\"eye_color\":\"blue\",\"birth_year\":\"19BBY\",\"gender\":\"male\",\"homeworld\":\"https://swapi.dev/api/planets/1/\",\"films\":[\"https://swapi.dev/api/films/1/\",\"https://swapi.dev/api/films/2/\",\"https://swapi.dev/api/films/3/\",\"https://swapi.dev/api/films/6/\"],\"species\":[],\"vehicles\":[\"https://swapi.dev/api/vehicles/14/\",\"https://swapi.dev/api/vehicles/30/\"],\"starships\":[\"https://swapi.dev/api/starships/12/\",\"https://swapi.dev/api/starships/22/\"],\"created\":\"2014-12-09T13:50:51.644000Z\",\"edited\":\"2014-12-20T21:17:56.891000Z\",\"url\":\"https://swapi.dev/api/people/1/\"}'"
      ]
     },
     "execution_count": 4,
     "metadata": {},
     "output_type": "execute_result"
    }
   ],
   "source": [
    "r = requests.get('https://swapi.dev/api/people/1')\n",
    "r.content"
   ]
  },
  {
   "cell_type": "code",
   "execution_count": 5,
   "metadata": {},
   "outputs": [
    {
     "data": {
      "text/plain": [
       "{'name': 'Luke Skywalker',\n",
       " 'height': '172',\n",
       " 'mass': '77',\n",
       " 'hair_color': 'blond',\n",
       " 'skin_color': 'fair',\n",
       " 'eye_color': 'blue',\n",
       " 'birth_year': '19BBY',\n",
       " 'gender': 'male',\n",
       " 'homeworld': 'https://swapi.dev/api/planets/1/',\n",
       " 'films': ['https://swapi.dev/api/films/1/',\n",
       "  'https://swapi.dev/api/films/2/',\n",
       "  'https://swapi.dev/api/films/3/',\n",
       "  'https://swapi.dev/api/films/6/'],\n",
       " 'species': [],\n",
       " 'vehicles': ['https://swapi.dev/api/vehicles/14/',\n",
       "  'https://swapi.dev/api/vehicles/30/'],\n",
       " 'starships': ['https://swapi.dev/api/starships/12/',\n",
       "  'https://swapi.dev/api/starships/22/'],\n",
       " 'created': '2014-12-09T13:50:51.644000Z',\n",
       " 'edited': '2014-12-20T21:17:56.891000Z',\n",
       " 'url': 'https://swapi.dev/api/people/1/'}"
      ]
     },
     "execution_count": 5,
     "metadata": {},
     "output_type": "execute_result"
    }
   ],
   "source": [
    "json.loads(r.content)"
   ]
  },
  {
   "cell_type": "code",
   "execution_count": 6,
   "metadata": {},
   "outputs": [
    {
     "name": "stdout",
     "output_type": "stream",
     "text": [
      "0\n",
      "1\n",
      "2\n",
      "3\n",
      "4\n",
      "5\n",
      "6\n",
      "7\n",
      "8\n",
      "9\n",
      "10\n",
      "11\n",
      "12\n",
      "13\n",
      "14\n",
      "15\n",
      "16\n",
      "17\n",
      "18\n",
      "19\n",
      "20\n",
      "21\n",
      "22\n",
      "23\n",
      "24\n",
      "25\n",
      "26\n",
      "27\n",
      "28\n",
      "29\n",
      "30\n",
      "31\n",
      "32\n",
      "33\n",
      "34\n",
      "35\n",
      "36\n",
      "37\n",
      "38\n",
      "39\n",
      "40\n",
      "41\n",
      "42\n",
      "43\n",
      "44\n",
      "45\n",
      "46\n",
      "47\n",
      "48\n",
      "49\n",
      "50\n",
      "51\n",
      "52\n",
      "53\n",
      "54\n",
      "55\n",
      "56\n",
      "57\n",
      "58\n",
      "59\n",
      "60\n",
      "61\n",
      "62\n",
      "63\n",
      "64\n",
      "65\n",
      "66\n",
      "67\n",
      "68\n",
      "69\n",
      "70\n",
      "71\n",
      "72\n",
      "73\n",
      "74\n",
      "75\n",
      "76\n",
      "77\n",
      "78\n",
      "79\n",
      "80\n",
      "81\n",
      "82\n",
      "83\n",
      "84\n",
      "85\n",
      "86\n",
      "87\n",
      "88\n",
      "89\n",
      "90\n",
      "91\n",
      "92\n",
      "93\n",
      "94\n",
      "95\n",
      "96\n",
      "97\n",
      "98\n",
      "99\n",
      "100\n",
      "101\n",
      "102\n",
      "103\n",
      "104\n",
      "105\n",
      "106\n",
      "107\n",
      "108\n",
      "109\n",
      "110\n",
      "111\n",
      "112\n",
      "113\n",
      "114\n",
      "115\n",
      "116\n",
      "117\n",
      "118\n",
      "119\n",
      "120\n",
      "121\n",
      "122\n",
      "123\n",
      "124\n",
      "125\n",
      "126\n",
      "127\n",
      "128\n",
      "129\n",
      "130\n",
      "131\n",
      "132\n",
      "133\n",
      "134\n",
      "135\n",
      "136\n",
      "137\n",
      "138\n",
      "139\n",
      "140\n",
      "141\n",
      "142\n",
      "143\n",
      "144\n",
      "145\n",
      "146\n",
      "147\n",
      "148\n",
      "149\n",
      "150\n",
      "151\n",
      "152\n",
      "153\n",
      "154\n",
      "155\n",
      "156\n",
      "157\n",
      "158\n",
      "159\n",
      "160\n",
      "161\n",
      "162\n",
      "163\n",
      "164\n",
      "165\n",
      "166\n",
      "167\n",
      "168\n",
      "169\n",
      "170\n",
      "171\n",
      "172\n",
      "173\n",
      "174\n",
      "175\n",
      "176\n",
      "177\n",
      "178\n",
      "179\n",
      "180\n",
      "181\n",
      "182\n",
      "183\n",
      "184\n",
      "185\n",
      "186\n",
      "187\n",
      "188\n",
      "189\n",
      "190\n",
      "191\n",
      "192\n",
      "193\n",
      "194\n",
      "195\n",
      "196\n",
      "197\n",
      "198\n",
      "199\n"
     ]
    }
   ],
   "source": [
    "for i in range(0,200):\n",
    "    r = requests.get('https://swapi.dev/api/people/'+ str(i))\n",
    "    client.index(index='star-wars', id=i, document=json.loads(r.content))\n",
    "    print(i)\n",
    "\n",
    "    #if r.status_code != 200:\n",
    "    #    break"
   ]
  },
  {
   "cell_type": "code",
   "execution_count": 4,
   "metadata": {},
   "outputs": [
    {
     "name": "stdout",
     "output_type": "stream",
     "text": [
      "Got 200 Hits:\n"
     ]
    },
    {
     "ename": "KeyError",
     "evalue": "'name'",
     "output_type": "error",
     "traceback": [
      "\u001b[1;31m---------------------------------------------------------------------------\u001b[0m",
      "\u001b[1;31mKeyError\u001b[0m                                  Traceback (most recent call last)",
      "\u001b[1;32m~\\AppData\\Local\\Temp/ipykernel_5384/2865142789.py\u001b[0m in \u001b[0;36m<module>\u001b[1;34m\u001b[0m\n\u001b[0;32m      3\u001b[0m \u001b[0mprint\u001b[0m\u001b[1;33m(\u001b[0m\u001b[1;34m\"Got %d Hits:\"\u001b[0m \u001b[1;33m%\u001b[0m \u001b[0mresp\u001b[0m\u001b[1;33m[\u001b[0m\u001b[1;34m'hits'\u001b[0m\u001b[1;33m]\u001b[0m\u001b[1;33m[\u001b[0m\u001b[1;34m'total'\u001b[0m\u001b[1;33m]\u001b[0m\u001b[1;33m[\u001b[0m\u001b[1;34m'value'\u001b[0m\u001b[1;33m]\u001b[0m\u001b[1;33m)\u001b[0m\u001b[1;33m\u001b[0m\u001b[1;33m\u001b[0m\u001b[0m\n\u001b[0;32m      4\u001b[0m \u001b[1;32mfor\u001b[0m \u001b[0mhit\u001b[0m \u001b[1;32min\u001b[0m \u001b[0mresp\u001b[0m\u001b[1;33m[\u001b[0m\u001b[1;34m'hits'\u001b[0m\u001b[1;33m]\u001b[0m\u001b[1;33m[\u001b[0m\u001b[1;34m'hits'\u001b[0m\u001b[1;33m]\u001b[0m\u001b[1;33m:\u001b[0m\u001b[1;33m\u001b[0m\u001b[1;33m\u001b[0m\u001b[0m\n\u001b[1;32m----> 5\u001b[1;33m     \u001b[0mprint\u001b[0m\u001b[1;33m(\u001b[0m\u001b[1;34m\"%(name)s\"\u001b[0m \u001b[1;33m%\u001b[0m \u001b[0mhit\u001b[0m\u001b[1;33m[\u001b[0m\u001b[1;34m\"_source\"\u001b[0m\u001b[1;33m]\u001b[0m\u001b[1;33m)\u001b[0m\u001b[1;33m\u001b[0m\u001b[1;33m\u001b[0m\u001b[0m\n\u001b[0m",
      "\u001b[1;31mKeyError\u001b[0m: 'name'"
     ]
    }
   ],
   "source": [
    "resp = client.search(index=\"star-wars\")\n",
    "\n",
    "print(\"Got %d Hits:\" % resp['hits']['total']['value'])\n",
    "for hit in resp['hits']['hits']:\n",
    "    print(\"%(name)s\" % hit[\"_source\"])\n"
   ]
  },
  {
   "cell_type": "code",
   "execution_count": 5,
   "metadata": {},
   "outputs": [
    {
     "data": {
      "text/plain": [
       "ObjectApiResponse({'took': 1, 'timed_out': False, '_shards': {'total': 1, 'successful': 1, 'skipped': 0, 'failed': 0}, 'hits': {'total': {'value': 200, 'relation': 'eq'}, 'max_score': 1.0, 'hits': [{'_index': 'star-wars', '_id': '0', '_score': 1.0, '_source': {'detail': 'Not found'}}, {'_index': 'star-wars', '_id': '1', '_score': 1.0, '_source': {'name': 'Luke Skywalker', 'height': '172', 'mass': '77', 'hair_color': 'blond', 'skin_color': 'fair', 'eye_color': 'blue', 'birth_year': '19BBY', 'gender': 'male', 'homeworld': 'https://swapi.dev/api/planets/1/', 'films': ['https://swapi.dev/api/films/1/', 'https://swapi.dev/api/films/2/', 'https://swapi.dev/api/films/3/', 'https://swapi.dev/api/films/6/'], 'species': [], 'vehicles': ['https://swapi.dev/api/vehicles/14/', 'https://swapi.dev/api/vehicles/30/'], 'starships': ['https://swapi.dev/api/starships/12/', 'https://swapi.dev/api/starships/22/'], 'created': '2014-12-09T13:50:51.644000Z', 'edited': '2014-12-20T21:17:56.891000Z', 'url': 'https://swapi.dev/api/people/1/'}}, {'_index': 'star-wars', '_id': '2', '_score': 1.0, '_source': {'name': 'C-3PO', 'height': '167', 'mass': '75', 'hair_color': 'n/a', 'skin_color': 'gold', 'eye_color': 'yellow', 'birth_year': '112BBY', 'gender': 'n/a', 'homeworld': 'https://swapi.dev/api/planets/1/', 'films': ['https://swapi.dev/api/films/1/', 'https://swapi.dev/api/films/2/', 'https://swapi.dev/api/films/3/', 'https://swapi.dev/api/films/4/', 'https://swapi.dev/api/films/5/', 'https://swapi.dev/api/films/6/'], 'species': ['https://swapi.dev/api/species/2/'], 'vehicles': [], 'starships': [], 'created': '2014-12-10T15:10:51.357000Z', 'edited': '2014-12-20T21:17:50.309000Z', 'url': 'https://swapi.dev/api/people/2/'}}, {'_index': 'star-wars', '_id': '3', '_score': 1.0, '_source': {'name': 'R2-D2', 'height': '96', 'mass': '32', 'hair_color': 'n/a', 'skin_color': 'white, blue', 'eye_color': 'red', 'birth_year': '33BBY', 'gender': 'n/a', 'homeworld': 'https://swapi.dev/api/planets/8/', 'films': ['https://swapi.dev/api/films/1/', 'https://swapi.dev/api/films/2/', 'https://swapi.dev/api/films/3/', 'https://swapi.dev/api/films/4/', 'https://swapi.dev/api/films/5/', 'https://swapi.dev/api/films/6/'], 'species': ['https://swapi.dev/api/species/2/'], 'vehicles': [], 'starships': [], 'created': '2014-12-10T15:11:50.376000Z', 'edited': '2014-12-20T21:17:50.311000Z', 'url': 'https://swapi.dev/api/people/3/'}}, {'_index': 'star-wars', '_id': '76', '_score': 1.0, '_source': {'name': 'Wat Tambor', 'height': '193', 'mass': '48', 'hair_color': 'none', 'skin_color': 'green, grey', 'eye_color': 'unknown', 'birth_year': 'unknown', 'gender': 'male', 'homeworld': 'https://swapi.dev/api/planets/56/', 'films': ['https://swapi.dev/api/films/5/'], 'species': ['https://swapi.dev/api/species/33/'], 'vehicles': [], 'starships': [], 'created': '2014-12-20T17:53:52.607000Z', 'edited': '2014-12-20T21:17:50.481000Z', 'url': 'https://swapi.dev/api/people/76/'}}, {'_index': 'star-wars', '_id': '77', '_score': 1.0, '_source': {'name': 'San Hill', 'height': '191', 'mass': 'unknown', 'hair_color': 'none', 'skin_color': 'grey', 'eye_color': 'gold', 'birth_year': 'unknown', 'gender': 'male', 'homeworld': 'https://swapi.dev/api/planets/57/', 'films': ['https://swapi.dev/api/films/5/'], 'species': ['https://swapi.dev/api/species/34/'], 'vehicles': [], 'starships': [], 'created': '2014-12-20T17:58:17.049000Z', 'edited': '2014-12-20T21:17:50.484000Z', 'url': 'https://swapi.dev/api/people/77/'}}, {'_index': 'star-wars', '_id': '78', '_score': 1.0, '_source': {'name': 'Shaak Ti', 'height': '178', 'mass': '57', 'hair_color': 'none', 'skin_color': 'red, blue, white', 'eye_color': 'black', 'birth_year': 'unknown', 'gender': 'female', 'homeworld': 'https://swapi.dev/api/planets/58/', 'films': ['https://swapi.dev/api/films/5/', 'https://swapi.dev/api/films/6/'], 'species': ['https://swapi.dev/api/species/35/'], 'vehicles': [], 'starships': [], 'created': '2014-12-20T18:44:01.103000Z', 'edited': '2014-12-20T21:17:50.486000Z', 'url': 'https://swapi.dev/api/people/78/'}}, {'_index': 'star-wars', '_id': '79', '_score': 1.0, '_source': {'name': 'Grievous', 'height': '216', 'mass': '159', 'hair_color': 'none', 'skin_color': 'brown, white', 'eye_color': 'green, yellow', 'birth_year': 'unknown', 'gender': 'male', 'homeworld': 'https://swapi.dev/api/planets/59/', 'films': ['https://swapi.dev/api/films/6/'], 'species': ['https://swapi.dev/api/species/36/'], 'vehicles': ['https://swapi.dev/api/vehicles/60/'], 'starships': ['https://swapi.dev/api/starships/74/'], 'created': '2014-12-20T19:43:53.348000Z', 'edited': '2014-12-20T21:17:50.488000Z', 'url': 'https://swapi.dev/api/people/79/'}}, {'_index': 'star-wars', '_id': '44', '_score': 1.0, '_source': {'name': 'Darth Maul', 'height': '175', 'mass': '80', 'hair_color': 'none', 'skin_color': 'red', 'eye_color': 'yellow', 'birth_year': '54BBY', 'gender': 'male', 'homeworld': 'https://swapi.dev/api/planets/36/', 'films': ['https://swapi.dev/api/films/4/'], 'species': ['https://swapi.dev/api/species/22/'], 'vehicles': ['https://swapi.dev/api/vehicles/42/'], 'starships': ['https://swapi.dev/api/starships/41/'], 'created': '2014-12-19T18:00:41.929000Z', 'edited': '2014-12-20T21:17:50.403000Z', 'url': 'https://swapi.dev/api/people/44/'}}, {'_index': 'star-wars', '_id': '45', '_score': 1.0, '_source': {'name': 'Bib Fortuna', 'height': '180', 'mass': 'unknown', 'hair_color': 'none', 'skin_color': 'pale', 'eye_color': 'pink', 'birth_year': 'unknown', 'gender': 'male', 'homeworld': 'https://swapi.dev/api/planets/37/', 'films': ['https://swapi.dev/api/films/3/'], 'species': ['https://swapi.dev/api/species/15/'], 'vehicles': [], 'starships': [], 'created': '2014-12-20T09:47:02.512000Z', 'edited': '2014-12-20T21:17:50.407000Z', 'url': 'https://swapi.dev/api/people/45/'}}]}})"
      ]
     },
     "execution_count": 5,
     "metadata": {},
     "output_type": "execute_result"
    }
   ],
   "source": [
    "resp"
   ]
  },
  {
   "cell_type": "code",
   "execution_count": 13,
   "metadata": {},
   "outputs": [
    {
     "data": {
      "text/plain": [
       "'the brown fox jumps over the lazy dog'"
      ]
     },
     "execution_count": 13,
     "metadata": {},
     "output_type": "execute_result"
    }
   ],
   "source": [
    "client.get(index='test', id='DteSPYEByEVD1n2c3UjO')['_source']['text']"
   ]
  },
  {
   "cell_type": "code",
   "execution_count": 40,
   "metadata": {},
   "outputs": [
    {
     "name": "stderr",
     "output_type": "stream",
     "text": [
      "C:\\Users\\DHoll\\AppData\\Local\\Temp/ipykernel_2976/355032741.py:1: DeprecationWarning: The 'body' parameter is deprecated and will be removed in a future version. Instead use individual parameters.\n",
      "  vader = client.search(index=\"sw\", body={\"query\":{\"match\":{\"name\":'Luke Skywalker'}}})\n"
     ]
    },
    {
     "data": {
      "text/plain": [
       "{'total': {'value': 3, 'relation': 'eq'},\n",
       " 'max_score': 7.088266,\n",
       " 'hits': [{'_index': 'sw',\n",
       "   '_id': '1',\n",
       "   '_score': 7.088266,\n",
       "   '_source': {'name': 'Luke Skywalker',\n",
       "    'height': '172',\n",
       "    'mass': '77',\n",
       "    'hair_color': 'blond',\n",
       "    'skin_color': 'fair',\n",
       "    'eye_color': 'blue',\n",
       "    'birth_year': '19BBY',\n",
       "    'gender': 'male',\n",
       "    'homeworld': 'https://swapi.dev/api/planets/1/',\n",
       "    'films': ['https://swapi.dev/api/films/1/',\n",
       "     'https://swapi.dev/api/films/2/',\n",
       "     'https://swapi.dev/api/films/3/',\n",
       "     'https://swapi.dev/api/films/6/'],\n",
       "    'species': [],\n",
       "    'vehicles': ['https://swapi.dev/api/vehicles/14/',\n",
       "     'https://swapi.dev/api/vehicles/30/'],\n",
       "    'starships': ['https://swapi.dev/api/starships/12/',\n",
       "     'https://swapi.dev/api/starships/22/'],\n",
       "    'created': '2014-12-09T13:50:51.644000Z',\n",
       "    'edited': '2014-12-20T21:17:56.891000Z',\n",
       "    'url': 'https://swapi.dev/api/people/1/'}},\n",
       "  {'_index': 'sw',\n",
       "   '_id': '11',\n",
       "   '_score': 3.125865,\n",
       "   '_source': {'name': 'Anakin Skywalker',\n",
       "    'height': '188',\n",
       "    'mass': '84',\n",
       "    'hair_color': 'blond',\n",
       "    'skin_color': 'fair',\n",
       "    'eye_color': 'blue',\n",
       "    'birth_year': '41.9BBY',\n",
       "    'gender': 'male',\n",
       "    'homeworld': 'https://swapi.dev/api/planets/1/',\n",
       "    'films': ['https://swapi.dev/api/films/4/',\n",
       "     'https://swapi.dev/api/films/5/',\n",
       "     'https://swapi.dev/api/films/6/'],\n",
       "    'species': [],\n",
       "    'vehicles': ['https://swapi.dev/api/vehicles/44/',\n",
       "     'https://swapi.dev/api/vehicles/46/'],\n",
       "    'starships': ['https://swapi.dev/api/starships/39/',\n",
       "     'https://swapi.dev/api/starships/59/',\n",
       "     'https://swapi.dev/api/starships/65/'],\n",
       "    'created': '2014-12-10T16:20:44.310000Z',\n",
       "    'edited': '2014-12-20T21:17:50.327000Z',\n",
       "    'url': 'https://swapi.dev/api/people/11/'}},\n",
       "  {'_index': 'sw',\n",
       "   '_id': '43',\n",
       "   '_score': 3.125865,\n",
       "   '_source': {'name': 'Shmi Skywalker',\n",
       "    'height': '163',\n",
       "    'mass': 'unknown',\n",
       "    'hair_color': 'black',\n",
       "    'skin_color': 'fair',\n",
       "    'eye_color': 'brown',\n",
       "    'birth_year': '72BBY',\n",
       "    'gender': 'female',\n",
       "    'homeworld': 'https://swapi.dev/api/planets/1/',\n",
       "    'films': ['https://swapi.dev/api/films/4/',\n",
       "     'https://swapi.dev/api/films/5/'],\n",
       "    'species': [],\n",
       "    'vehicles': [],\n",
       "    'starships': [],\n",
       "    'created': '2014-12-19T17:57:41.191000Z',\n",
       "    'edited': '2014-12-20T21:17:50.401000Z',\n",
       "    'url': 'https://swapi.dev/api/people/43/'}}]}"
      ]
     },
     "execution_count": 40,
     "metadata": {},
     "output_type": "execute_result"
    }
   ],
   "source": [
    "vader = client.search(index=\"sw\", body={\"query\":{\"match\":{\"name\":'Luke Skywalker'}}})\n",
    "vader['hits']"
   ]
  },
  {
   "cell_type": "code",
   "execution_count": 42,
   "metadata": {},
   "outputs": [
    {
     "name": "stderr",
     "output_type": "stream",
     "text": [
      "C:\\Users\\DHoll\\AppData\\Local\\Temp/ipykernel_2976/667479329.py:1: DeprecationWarning: The 'body' parameter is deprecated and will be removed in a future version. Instead use individual parameters.\n",
      "  lu = client.search(index=\"sw\", body={\"query\": {\"prefix\" : { \"name\" : \"lu\" }}})\n"
     ]
    },
    {
     "data": {
      "text/plain": [
       "{'total': {'value': 2, 'relation': 'eq'},\n",
       " 'max_score': 1.0,\n",
       " 'hits': [{'_index': 'sw',\n",
       "   '_id': '1',\n",
       "   '_score': 1.0,\n",
       "   '_source': {'name': 'Luke Skywalker',\n",
       "    'height': '172',\n",
       "    'mass': '77',\n",
       "    'hair_color': 'blond',\n",
       "    'skin_color': 'fair',\n",
       "    'eye_color': 'blue',\n",
       "    'birth_year': '19BBY',\n",
       "    'gender': 'male',\n",
       "    'homeworld': 'https://swapi.dev/api/planets/1/',\n",
       "    'films': ['https://swapi.dev/api/films/1/',\n",
       "     'https://swapi.dev/api/films/2/',\n",
       "     'https://swapi.dev/api/films/3/',\n",
       "     'https://swapi.dev/api/films/6/'],\n",
       "    'species': [],\n",
       "    'vehicles': ['https://swapi.dev/api/vehicles/14/',\n",
       "     'https://swapi.dev/api/vehicles/30/'],\n",
       "    'starships': ['https://swapi.dev/api/starships/12/',\n",
       "     'https://swapi.dev/api/starships/22/'],\n",
       "    'created': '2014-12-09T13:50:51.644000Z',\n",
       "    'edited': '2014-12-20T21:17:56.891000Z',\n",
       "    'url': 'https://swapi.dev/api/people/1/'}},\n",
       "  {'_index': 'sw',\n",
       "   '_id': '64',\n",
       "   '_score': 1.0,\n",
       "   '_source': {'name': 'Luminara Unduli',\n",
       "    'height': '170',\n",
       "    'mass': '56.2',\n",
       "    'hair_color': 'black',\n",
       "    'skin_color': 'yellow',\n",
       "    'eye_color': 'blue',\n",
       "    'birth_year': '58BBY',\n",
       "    'gender': 'female',\n",
       "    'homeworld': 'https://swapi.dev/api/planets/51/',\n",
       "    'films': ['https://swapi.dev/api/films/5/',\n",
       "     'https://swapi.dev/api/films/6/'],\n",
       "    'species': ['https://swapi.dev/api/species/29/'],\n",
       "    'vehicles': [],\n",
       "    'starships': [],\n",
       "    'created': '2014-12-20T16:45:53.668000Z',\n",
       "    'edited': '2014-12-20T21:17:50.455000Z',\n",
       "    'url': 'https://swapi.dev/api/people/64/'}}]}"
      ]
     },
     "execution_count": 42,
     "metadata": {},
     "output_type": "execute_result"
    }
   ],
   "source": [
    "lu = client.search(index=\"sw\", body={\"query\": {\"prefix\" : { \"name\" : \"lu\" }}})\n",
    "lu['hits']"
   ]
  },
  {
   "cell_type": "code",
   "execution_count": 43,
   "metadata": {},
   "outputs": [
    {
     "name": "stderr",
     "output_type": "stream",
     "text": [
      "C:\\Users\\DHoll\\AppData\\Local\\Temp/ipykernel_2976/193051241.py:1: DeprecationWarning: The 'body' parameter is deprecated and will be removed in a future version. Instead use individual parameters.\n",
      "  j = client.search(index=\"sw\", body={\"query\":\n"
     ]
    },
    {
     "ename": "BadRequestError",
     "evalue": "BadRequestError(400, 'parsing_exception', 'unknown query [fuzzy_like_this_field]')",
     "output_type": "error",
     "traceback": [
      "\u001b[1;31m---------------------------------------------------------------------------\u001b[0m",
      "\u001b[1;31mBadRequestError\u001b[0m                           Traceback (most recent call last)",
      "\u001b[1;32m~\\AppData\\Local\\Temp/ipykernel_2976/193051241.py\u001b[0m in \u001b[0;36m<module>\u001b[1;34m\u001b[0m\n\u001b[1;32m----> 1\u001b[1;33m j = client.search(index=\"sw\", body={\"query\":\n\u001b[0m\u001b[0;32m      2\u001b[0m {\"fuzzy_like_this_field\": {\"name\":\n\u001b[0;32m      3\u001b[0m {\"like_text\": \"jaba\", \"max_query_terms\":5}}}})\n\u001b[0;32m      4\u001b[0m \u001b[0mj\u001b[0m\u001b[1;33m[\u001b[0m\u001b[1;34m'hits'\u001b[0m\u001b[1;33m]\u001b[0m\u001b[1;33m\u001b[0m\u001b[1;33m\u001b[0m\u001b[0m\n",
      "\u001b[1;32mc:\\Users\\DHoll\\anaconda3\\lib\\site-packages\\elasticsearch\\_sync\\client\\utils.py\u001b[0m in \u001b[0;36mwrapped\u001b[1;34m(*args, **kwargs)\u001b[0m\n\u001b[0;32m    412\u001b[0m                         \u001b[1;32mpass\u001b[0m\u001b[1;33m\u001b[0m\u001b[1;33m\u001b[0m\u001b[0m\n\u001b[0;32m    413\u001b[0m \u001b[1;33m\u001b[0m\u001b[0m\n\u001b[1;32m--> 414\u001b[1;33m             \u001b[1;32mreturn\u001b[0m \u001b[0mapi\u001b[0m\u001b[1;33m(\u001b[0m\u001b[1;33m*\u001b[0m\u001b[0margs\u001b[0m\u001b[1;33m,\u001b[0m \u001b[1;33m**\u001b[0m\u001b[0mkwargs\u001b[0m\u001b[1;33m)\u001b[0m\u001b[1;33m\u001b[0m\u001b[1;33m\u001b[0m\u001b[0m\n\u001b[0m\u001b[0;32m    415\u001b[0m \u001b[1;33m\u001b[0m\u001b[0m\n\u001b[0;32m    416\u001b[0m         \u001b[1;32mreturn\u001b[0m \u001b[0mwrapped\u001b[0m  \u001b[1;31m# type: ignore[return-value]\u001b[0m\u001b[1;33m\u001b[0m\u001b[1;33m\u001b[0m\u001b[0m\n",
      "\u001b[1;32mc:\\Users\\DHoll\\anaconda3\\lib\\site-packages\\elasticsearch\\_sync\\client\\__init__.py\u001b[0m in \u001b[0;36msearch\u001b[1;34m(self, index, aggregations, aggs, allow_no_indices, allow_partial_search_results, analyze_wildcard, analyzer, batched_reduce_size, ccs_minimize_roundtrips, collapse, default_operator, df, docvalue_fields, error_trace, expand_wildcards, explain, fields, filter_path, from_, highlight, human, ignore_throttled, ignore_unavailable, indices_boost, lenient, max_concurrent_shard_requests, min_compatible_shard_node, min_score, pit, post_filter, pre_filter_shard_size, preference, pretty, profile, q, query, request_cache, rescore, rest_total_hits_as_int, routing, runtime_mappings, script_fields, scroll, search_after, search_type, seq_no_primary_term, size, slice, sort, source, source_excludes, source_includes, stats, stored_fields, suggest, suggest_field, suggest_mode, suggest_size, suggest_text, terminate_after, timeout, track_scores, track_total_hits, typed_keys, version)\u001b[0m\n\u001b[0;32m   3745\u001b[0m         \u001b[1;32mif\u001b[0m \u001b[0m__body\u001b[0m \u001b[1;32mis\u001b[0m \u001b[1;32mnot\u001b[0m \u001b[1;32mNone\u001b[0m\u001b[1;33m:\u001b[0m\u001b[1;33m\u001b[0m\u001b[1;33m\u001b[0m\u001b[0m\n\u001b[0;32m   3746\u001b[0m             \u001b[0m__headers\u001b[0m\u001b[1;33m[\u001b[0m\u001b[1;34m\"content-type\"\u001b[0m\u001b[1;33m]\u001b[0m \u001b[1;33m=\u001b[0m \u001b[1;34m\"application/json\"\u001b[0m\u001b[1;33m\u001b[0m\u001b[1;33m\u001b[0m\u001b[0m\n\u001b[1;32m-> 3747\u001b[1;33m         return self.perform_request(  # type: ignore[return-value]\n\u001b[0m\u001b[0;32m   3748\u001b[0m             \u001b[1;34m\"POST\"\u001b[0m\u001b[1;33m,\u001b[0m \u001b[0m__path\u001b[0m\u001b[1;33m,\u001b[0m \u001b[0mparams\u001b[0m\u001b[1;33m=\u001b[0m\u001b[0m__query\u001b[0m\u001b[1;33m,\u001b[0m \u001b[0mheaders\u001b[0m\u001b[1;33m=\u001b[0m\u001b[0m__headers\u001b[0m\u001b[1;33m,\u001b[0m \u001b[0mbody\u001b[0m\u001b[1;33m=\u001b[0m\u001b[0m__body\u001b[0m\u001b[1;33m\u001b[0m\u001b[1;33m\u001b[0m\u001b[0m\n\u001b[0;32m   3749\u001b[0m         )\n",
      "\u001b[1;32mc:\\Users\\DHoll\\anaconda3\\lib\\site-packages\\elasticsearch\\_sync\\client\\_base.py\u001b[0m in \u001b[0;36mperform_request\u001b[1;34m(self, method, path, params, headers, body)\u001b[0m\n\u001b[0;32m    319\u001b[0m                     \u001b[1;32mpass\u001b[0m\u001b[1;33m\u001b[0m\u001b[1;33m\u001b[0m\u001b[0m\n\u001b[0;32m    320\u001b[0m \u001b[1;33m\u001b[0m\u001b[0m\n\u001b[1;32m--> 321\u001b[1;33m             raise HTTP_EXCEPTIONS.get(meta.status, ApiError)(\n\u001b[0m\u001b[0;32m    322\u001b[0m                 \u001b[0mmessage\u001b[0m\u001b[1;33m=\u001b[0m\u001b[0mmessage\u001b[0m\u001b[1;33m,\u001b[0m \u001b[0mmeta\u001b[0m\u001b[1;33m=\u001b[0m\u001b[0mmeta\u001b[0m\u001b[1;33m,\u001b[0m \u001b[0mbody\u001b[0m\u001b[1;33m=\u001b[0m\u001b[0mresp_body\u001b[0m\u001b[1;33m\u001b[0m\u001b[1;33m\u001b[0m\u001b[0m\n\u001b[0;32m    323\u001b[0m             )\n",
      "\u001b[1;31mBadRequestError\u001b[0m: BadRequestError(400, 'parsing_exception', 'unknown query [fuzzy_like_this_field]')"
     ]
    }
   ],
   "source": [
    "j = client.search(index=\"sw\", body={\"query\":\n",
    "{\"fuzzy_like_this_field\": {\"name\":\n",
    "{\"like_text\": \"jaba\", \"max_query_terms\":5}}}})\n",
    "\n",
    "j['hits']"
   ]
  },
  {
   "cell_type": "code",
   "execution_count": 46,
   "metadata": {},
   "outputs": [
    {
     "name": "stderr",
     "output_type": "stream",
     "text": [
      "C:\\Users\\DHoll\\AppData\\Local\\Temp/ipykernel_2976/2560179324.py:1: DeprecationWarning: The 'body' parameter is deprecated and will be removed in a future version. Instead use individual parameters.\n",
      "  client.search(index=\"sw\", body={\"query\":\n"
     ]
    },
    {
     "ename": "BadRequestError",
     "evalue": "BadRequestError(400, 'parsing_exception', 'unknown query [fuzzy_like_this_field]')",
     "output_type": "error",
     "traceback": [
      "\u001b[1;31m---------------------------------------------------------------------------\u001b[0m",
      "\u001b[1;31mBadRequestError\u001b[0m                           Traceback (most recent call last)",
      "\u001b[1;32m~\\AppData\\Local\\Temp/ipykernel_2976/2560179324.py\u001b[0m in \u001b[0;36m<module>\u001b[1;34m\u001b[0m\n\u001b[1;32m----> 1\u001b[1;33m client.search(index=\"sw\", body={\"query\":\n\u001b[0m\u001b[0;32m      2\u001b[0m {\"fuzzy_like_this_field\" : { \"name\" :\n\u001b[0;32m      3\u001b[0m {\"like_text\": \"jaba\", \"max_query_terms\":5}}}})\n",
      "\u001b[1;32mc:\\Users\\DHoll\\anaconda3\\lib\\site-packages\\elasticsearch\\_sync\\client\\utils.py\u001b[0m in \u001b[0;36mwrapped\u001b[1;34m(*args, **kwargs)\u001b[0m\n\u001b[0;32m    412\u001b[0m                         \u001b[1;32mpass\u001b[0m\u001b[1;33m\u001b[0m\u001b[1;33m\u001b[0m\u001b[0m\n\u001b[0;32m    413\u001b[0m \u001b[1;33m\u001b[0m\u001b[0m\n\u001b[1;32m--> 414\u001b[1;33m             \u001b[1;32mreturn\u001b[0m \u001b[0mapi\u001b[0m\u001b[1;33m(\u001b[0m\u001b[1;33m*\u001b[0m\u001b[0margs\u001b[0m\u001b[1;33m,\u001b[0m \u001b[1;33m**\u001b[0m\u001b[0mkwargs\u001b[0m\u001b[1;33m)\u001b[0m\u001b[1;33m\u001b[0m\u001b[1;33m\u001b[0m\u001b[0m\n\u001b[0m\u001b[0;32m    415\u001b[0m \u001b[1;33m\u001b[0m\u001b[0m\n\u001b[0;32m    416\u001b[0m         \u001b[1;32mreturn\u001b[0m \u001b[0mwrapped\u001b[0m  \u001b[1;31m# type: ignore[return-value]\u001b[0m\u001b[1;33m\u001b[0m\u001b[1;33m\u001b[0m\u001b[0m\n",
      "\u001b[1;32mc:\\Users\\DHoll\\anaconda3\\lib\\site-packages\\elasticsearch\\_sync\\client\\__init__.py\u001b[0m in \u001b[0;36msearch\u001b[1;34m(self, index, aggregations, aggs, allow_no_indices, allow_partial_search_results, analyze_wildcard, analyzer, batched_reduce_size, ccs_minimize_roundtrips, collapse, default_operator, df, docvalue_fields, error_trace, expand_wildcards, explain, fields, filter_path, from_, highlight, human, ignore_throttled, ignore_unavailable, indices_boost, lenient, max_concurrent_shard_requests, min_compatible_shard_node, min_score, pit, post_filter, pre_filter_shard_size, preference, pretty, profile, q, query, request_cache, rescore, rest_total_hits_as_int, routing, runtime_mappings, script_fields, scroll, search_after, search_type, seq_no_primary_term, size, slice, sort, source, source_excludes, source_includes, stats, stored_fields, suggest, suggest_field, suggest_mode, suggest_size, suggest_text, terminate_after, timeout, track_scores, track_total_hits, typed_keys, version)\u001b[0m\n\u001b[0;32m   3745\u001b[0m         \u001b[1;32mif\u001b[0m \u001b[0m__body\u001b[0m \u001b[1;32mis\u001b[0m \u001b[1;32mnot\u001b[0m \u001b[1;32mNone\u001b[0m\u001b[1;33m:\u001b[0m\u001b[1;33m\u001b[0m\u001b[1;33m\u001b[0m\u001b[0m\n\u001b[0;32m   3746\u001b[0m             \u001b[0m__headers\u001b[0m\u001b[1;33m[\u001b[0m\u001b[1;34m\"content-type\"\u001b[0m\u001b[1;33m]\u001b[0m \u001b[1;33m=\u001b[0m \u001b[1;34m\"application/json\"\u001b[0m\u001b[1;33m\u001b[0m\u001b[1;33m\u001b[0m\u001b[0m\n\u001b[1;32m-> 3747\u001b[1;33m         return self.perform_request(  # type: ignore[return-value]\n\u001b[0m\u001b[0;32m   3748\u001b[0m             \u001b[1;34m\"POST\"\u001b[0m\u001b[1;33m,\u001b[0m \u001b[0m__path\u001b[0m\u001b[1;33m,\u001b[0m \u001b[0mparams\u001b[0m\u001b[1;33m=\u001b[0m\u001b[0m__query\u001b[0m\u001b[1;33m,\u001b[0m \u001b[0mheaders\u001b[0m\u001b[1;33m=\u001b[0m\u001b[0m__headers\u001b[0m\u001b[1;33m,\u001b[0m \u001b[0mbody\u001b[0m\u001b[1;33m=\u001b[0m\u001b[0m__body\u001b[0m\u001b[1;33m\u001b[0m\u001b[1;33m\u001b[0m\u001b[0m\n\u001b[0;32m   3749\u001b[0m         )\n",
      "\u001b[1;32mc:\\Users\\DHoll\\anaconda3\\lib\\site-packages\\elasticsearch\\_sync\\client\\_base.py\u001b[0m in \u001b[0;36mperform_request\u001b[1;34m(self, method, path, params, headers, body)\u001b[0m\n\u001b[0;32m    319\u001b[0m                     \u001b[1;32mpass\u001b[0m\u001b[1;33m\u001b[0m\u001b[1;33m\u001b[0m\u001b[0m\n\u001b[0;32m    320\u001b[0m \u001b[1;33m\u001b[0m\u001b[0m\n\u001b[1;32m--> 321\u001b[1;33m             raise HTTP_EXCEPTIONS.get(meta.status, ApiError)(\n\u001b[0m\u001b[0;32m    322\u001b[0m                 \u001b[0mmessage\u001b[0m\u001b[1;33m=\u001b[0m\u001b[0mmessage\u001b[0m\u001b[1;33m,\u001b[0m \u001b[0mmeta\u001b[0m\u001b[1;33m=\u001b[0m\u001b[0mmeta\u001b[0m\u001b[1;33m,\u001b[0m \u001b[0mbody\u001b[0m\u001b[1;33m=\u001b[0m\u001b[0mresp_body\u001b[0m\u001b[1;33m\u001b[0m\u001b[1;33m\u001b[0m\u001b[0m\n\u001b[0;32m    323\u001b[0m             )\n",
      "\u001b[1;31mBadRequestError\u001b[0m: BadRequestError(400, 'parsing_exception', 'unknown query [fuzzy_like_this_field]')"
     ]
    }
   ],
   "source": [
    "client.search(index=\"sw\", body={\"query\":\n",
    "{\"fuzzy_like_this_field\" : { \"name\" :\n",
    "{\"like_text\": \"jaba\", \"max_query_terms\":5}}}})"
   ]
  }
 ],
 "metadata": {
  "interpreter": {
   "hash": "3257c2daad154ad685bb7289b1b7760c1f65584ec5bb5911d69b84a5bf2b4225"
  },
  "kernelspec": {
   "display_name": "Python 3.9.7 ('base')",
   "language": "python",
   "name": "python3"
  },
  "language_info": {
   "codemirror_mode": {
    "name": "ipython",
    "version": 3
   },
   "file_extension": ".py",
   "mimetype": "text/x-python",
   "name": "python",
   "nbconvert_exporter": "python",
   "pygments_lexer": "ipython3",
   "version": "3.9.7"
  },
  "orig_nbformat": 4
 },
 "nbformat": 4,
 "nbformat_minor": 2
}
